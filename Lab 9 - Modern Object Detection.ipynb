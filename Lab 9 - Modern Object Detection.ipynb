{
 "cells": [
  {
   "attachments": {},
   "cell_type": "markdown",
   "metadata": {
    "id": "wrUIhm-p8c6t"
   },
   "source": [
    "# 2110443 - Computer Vision (2022/2)\n",
    "\n",
    "# Lab 9 - Modern Object Detection \n",
    "In this lab, we will learn how to use Convolutional Neural Network on object detection problem by using famouse object detection framework <a href=\"https://github.com/open-mmlab/mmdetection\">MMDetection</a>. This notebook includes both coding and written questions. Please hand in this notebook file with all outputs and your answer"
   ]
  },
  {
   "cell_type": "markdown",
   "metadata": {
    "id": "1hj7dEze9C9x"
   },
   "source": [
    "Install prerequisite libraries for MMDetection\n",
    "![mmdetection](https://raw.githubusercontent.com/open-mmlab/mmdetection/master/resources/mmdet-logo.png)"
   ]
  },
  {
   "cell_type": "code",
   "execution_count": null,
   "metadata": {
    "colab": {
     "base_uri": "https://localhost:8080/"
    },
    "id": "onhG6W0rHo_Z",
    "outputId": "3d48c6f6-18d8-4e3c-8778-06e78e7db341"
   },
   "outputs": [],
   "source": [
    "!pip install openmim\n",
    "!mim install mmdet"
   ]
  },
  {
   "cell_type": "markdown",
   "metadata": {
    "id": "-VaJoXA9-Blk"
   },
   "source": [
    "## MMDetection pretrained model (MaskRCNN)"
   ]
  },
  {
   "cell_type": "code",
   "execution_count": null,
   "metadata": {
    "id": "S-uyMU2OIgww"
   },
   "outputs": [],
   "source": [
    "import mmcv\n",
    "import numpy as np"
   ]
  },
  {
   "cell_type": "code",
   "execution_count": null,
   "metadata": {
    "colab": {
     "base_uri": "https://localhost:8080/"
    },
    "id": "xtr7NIGy7zdy",
    "outputId": "8aa697c4-5709-4dee-c412-27278fecbbeb"
   },
   "outputs": [],
   "source": [
    "!mim download mmdet --config mask_rcnn_r50_caffe_fpn_mstrain-poly_3x_coco --dest .\n"
   ]
  },
  {
   "cell_type": "code",
   "execution_count": null,
   "metadata": {
    "colab": {
     "base_uri": "https://localhost:8080/"
    },
    "id": "gmQOIzeILlLD",
    "outputId": "d47006df-fed7-4f39-db67-8ccf1635c971"
   },
   "outputs": [],
   "source": [
    "from mmdet.apis import inference_detector, init_detector, show_result_pyplot\n",
    "\n",
    "# Read MaskRCNN config file\n",
    "config = 'mask_rcnn_r50_caffe_fpn_mstrain-poly_3x_coco.py'\n",
    "\n",
    "# MaskRCNN pretrained on COCO dataset\n",
    "checkpoint = 'mask_rcnn_r50_caffe_fpn_mstrain-poly_3x_coco_bbox_mAP-0.408__segm_mAP-0.37_20200504_163245-42aa3d00.pth'\n",
    "\n",
    "# initialize the detector\n",
    "maskRCNNModel = init_detector(config, checkpoint, device='cuda')"
   ]
  },
  {
   "cell_type": "code",
   "execution_count": null,
   "metadata": {
    "colab": {
     "base_uri": "https://localhost:8080/",
     "height": 726
    },
    "id": "3G13ocqIL-ls",
    "outputId": "26913cc5-50cc-4d04-e35d-e644520d1e20"
   },
   "outputs": [],
   "source": [
    "# Read inputImage and apply detector\n",
    "!wget https://raw.githubusercontent.com/open-mmlab/mmdetection/master/demo/demo.jpg\n",
    "inputImage = 'demo.jpg'\n",
    "result = inference_detector(maskRCNNModel, inputImage)\n",
    "\n",
    "# Show Result\n",
    "show_result_pyplot(maskRCNNModel, inputImage, result, score_thr=0.3)"
   ]
  },
  {
   "cell_type": "markdown",
   "metadata": {
    "id": "4US6hUPu-InP"
   },
   "source": [
    "# Raccoon Dataset\n",
    "![Raccoon Dataset](https://i.imgur.com/cRQJ1PB.png)\n",
    "\n",
    "Dataset URL : https://github.com/datitran/raccoon_dataset <br>\n",
    "This dataset contains 196 images of raccoons and 213 bounding boxes (some images contain two raccoons). This is a single class problem, and images various size and scene condition. It's a great first dataset for getting started with object detection.\n",
    "\n"
   ]
  },
  {
   "cell_type": "markdown",
   "metadata": {
    "id": "4Z5ZfEOV-_I7"
   },
   "source": [
    "Download and extract preprocessed dataset from lab server"
   ]
  },
  {
   "cell_type": "code",
   "execution_count": null,
   "metadata": {
    "colab": {
     "base_uri": "https://localhost:8080/"
    },
    "id": "Cf-rybL6--ZY",
    "outputId": "b853d41f-7082-4037-c1d4-146e3f5834d2"
   },
   "outputs": [],
   "source": [
    "!wget http://piclab.ai/classes/cv2020/raccoonsDataset.zip\n",
    "!unzip -q raccoonsDataset.zip"
   ]
  },
  {
   "cell_type": "markdown",
   "metadata": {
    "id": "UUhABcbjACMy"
   },
   "source": [
    "### Dataset Exploration\n",
    "We will use pycocotools to explore this dataset. "
   ]
  },
  {
   "cell_type": "code",
   "execution_count": null,
   "metadata": {
    "id": "cxQn5o5QAFxC"
   },
   "outputs": [],
   "source": [
    "from pycocotools.coco import COCO\n",
    "import numpy as np\n",
    "import cv2\n",
    "import matplotlib.pyplot as plt"
   ]
  },
  {
   "cell_type": "code",
   "execution_count": null,
   "metadata": {
    "colab": {
     "base_uri": "https://localhost:8080/"
    },
    "id": "FKtFLthuA_5k",
    "outputId": "8573e3d1-da77-47d3-cf40-21a3c62767bd"
   },
   "outputs": [],
   "source": [
    "trainLabelFile='raccoons/coco_annotations.json'\n",
    "# initialize COCO api for instance annotations\n",
    "trainCOCOBinding = COCO(trainLabelFile)"
   ]
  },
  {
   "cell_type": "code",
   "execution_count": null,
   "metadata": {
    "colab": {
     "base_uri": "https://localhost:8080/",
     "height": 378
    },
    "id": "h2jBXmauBmL2",
    "outputId": "0293c47e-d309-4a7d-f466-108ee93e6282"
   },
   "outputs": [],
   "source": [
    "#display COCO categories and supercategories\n",
    "cats = trainCOCOBinding.loadCats(trainCOCOBinding.getCatIds())\n",
    "nms=[cat['name'] for cat in cats]\n",
    "print('COCO categories: \\n{}\\n'.format(' '.join(nms)))\n",
    "\n",
    "# get all images containing given categories, select one at random\n",
    "catIds = trainCOCOBinding.getCatIds(catNms=['raccoon']);\n",
    "imgIds = trainCOCOBinding.getImgIds(catIds=catIds );\n",
    "\n",
    "randomImgId = np.random.randint(0,len(imgIds))\n",
    "sampleImageData = trainCOCOBinding.loadImgs(imgIds[randomImgId])[0]\n",
    "\n",
    "print('Image Data >>', sampleImageData)\n",
    "\n",
    "sampleImage = cv2.imread('raccoons/'+sampleImageData['file_name'])\n",
    "\n",
    "annIds = trainCOCOBinding.getAnnIds(imgIds=randomImgId, catIds=catIds, iscrowd=None)\n",
    "boxes = trainCOCOBinding.loadAnns(annIds)\n",
    "print('Box Data', boxes)\n",
    "\n",
    "for box in boxes:\n",
    "  x,y,w,h = box['bbox']\n",
    "  cv2.rectangle(sampleImage, (int(x), int(y)), (int(x+w), int(y+h)), (0,255,0), 5)\n",
    "\n",
    "sampleImage = cv2.cvtColor(sampleImage, cv2.COLOR_BGR2RGB)\n",
    "\n",
    "plt.imshow(sampleImage)\n",
    "plt.show()"
   ]
  },
  {
   "cell_type": "markdown",
   "metadata": {
    "id": "8C-P6uBiT308"
   },
   "source": [
    "### Modify MMDetection model configuration"
   ]
  },
  {
   "cell_type": "code",
   "execution_count": null,
   "metadata": {
    "colab": {
     "base_uri": "https://localhost:8080/"
    },
    "id": "_-wFnQkcDABq",
    "outputId": "e91ea8f7-0b68-4442-ad8b-08af7e531e61"
   },
   "outputs": [],
   "source": [
    "!mim download mmdet --config ssd300_coco --dest .\n"
   ]
  },
  {
   "cell_type": "code",
   "execution_count": null,
   "metadata": {
    "colab": {
     "base_uri": "https://localhost:8080/"
    },
    "id": "-Us_H4ffBuNe",
    "outputId": "2eb615f8-ad8e-4c5b-8f96-1d407052914c"
   },
   "outputs": [],
   "source": [
    "from mmcv import Config\n",
    "\n",
    "\n",
    "modelConfig = Config.fromfile('ssd300_coco.py') \n",
    "\n",
    "\n",
    "print(f'Original Config:\\n{modelConfig.pretty_text}')\n"
   ]
  },
  {
   "cell_type": "code",
   "execution_count": null,
   "metadata": {
    "colab": {
     "base_uri": "https://localhost:8080/"
    },
    "id": "3-XO052sUT9p",
    "outputId": "0b3dc79b-fa22-4dbb-d6d6-1493e19b8a22"
   },
   "outputs": [],
   "source": [
    "from mmcv.utils.config import ConfigDict\n",
    "from mmdet.apis import set_random_seed\n",
    "\n",
    "# Modify dataset type and path\n",
    "modelConfig.device = 'cuda'\n",
    "\n",
    "modelConfig.dataset_type = 'CocoDataset'\n",
    "modelConfig.data_root = './raccoons'\n",
    "modelConfig.classes = ('raccoon',)\n",
    "\n",
    "modelConfig.model.bbox_head.num_classes = 1\n",
    "\n",
    "modelConfig.data.train = ConfigDict()\n",
    "modelConfig.data.train.pipeline = modelConfig.train_pipeline\n",
    "modelConfig.data.train.type = 'CocoDataset'\n",
    "modelConfig.data.train.classes = ('raccoon',)\n",
    "modelConfig.data.train.data_root = './raccoons'\n",
    "modelConfig.data.train.ann_file = 'coco_annotations.json'\n",
    "modelConfig.data.train.img_prefix = ''\n",
    "\n",
    "modelConfig.data.val = ConfigDict()\n",
    "modelConfig.data.val.pipeline = modelConfig.test_pipeline\n",
    "modelConfig.data.val.type = 'CocoDataset'\n",
    "modelConfig.data.val.classes =('raccoon',)\n",
    "modelConfig.data.val.data_root = './raccoons'\n",
    "modelConfig.data.val.ann_file = 'coco_annotations.json'\n",
    "modelConfig.data.val.img_prefix = ''\n",
    "\n",
    "\n",
    "modelConfig.data.test = ConfigDict()\n",
    "modelConfig.data.test.pipeline = modelConfig.test_pipeline\n",
    "modelConfig.data.test.type = 'CocoDataset'\n",
    "modelConfig.data.test.classes =('raccoon',)\n",
    "modelConfig.data.test.data_root = './raccoons'\n",
    "modelConfig.data.test.ann_file = 'coco_annotations.json'\n",
    "modelConfig.data.test.img_prefix = ''\n",
    "\n",
    "\n",
    "# Set up working dir to save files and logs.\n",
    "modelConfig.work_dir = './experiments'\n",
    "# use pretrained model as start point\n",
    "modelConfig.load_from = 'ssd300_coco_20210803_015428-d231a06e.pth'\n",
    "\n",
    "modelConfig.optimizer.lr = 1e-3\n",
    "modelConfig.lr_config.warmup = None\n",
    "modelConfig.lr_config.policy = 'step'\n",
    "modelConfig.lr_config.step = [10,25]\n",
    "modelConfig.log_config.interval = 10\n",
    "\n",
    "# Evaluation interval\n",
    "modelConfig.evaluation.interval = 5\n",
    "# Checkpoint saving interval\n",
    "modelConfig.checkpoint_config.interval = 5\n",
    "modelConfig.runner.max_epochs = 30\n",
    "\n",
    "# Set seed thus the results are more reproducible\n",
    "modelConfig.seed = 0\n",
    "set_random_seed(0, deterministic=False)\n",
    "modelConfig.gpu_ids = range(1)\n",
    "\n",
    "# We can initialize the logger for training and have a look\n",
    "# at the final config used for training\n",
    "print(f'Modified Config:\\n{modelConfig.pretty_text}')"
   ]
  },
  {
   "cell_type": "markdown",
   "metadata": {
    "id": "l31mBG-U16xN"
   },
   "source": [
    "### Training"
   ]
  },
  {
   "cell_type": "code",
   "execution_count": null,
   "metadata": {
    "colab": {
     "base_uri": "https://localhost:8080/",
     "height": 1000
    },
    "id": "a0o5ELx5ZrMC",
    "outputId": "26bbd3f5-fac9-411f-9085-ef2b6609420d"
   },
   "outputs": [],
   "source": [
    "from mmdet.datasets import build_dataset\n",
    "from mmdet.models import build_detector\n",
    "from mmdet.apis import train_detector\n",
    "import mmcv\n",
    "import os\n",
    "\n",
    "# Build dataset\n",
    "datasets = [build_dataset(modelConfig.data.train)]\n",
    "\n",
    "# Build the detector\n",
    "model = build_detector(modelConfig.model, train_cfg=modelConfig.get('train_cfg'), test_cfg=modelConfig.get('test_cfg'))\n",
    "\n",
    "# Create work_dir\n",
    "mmcv.mkdir_or_exist(os.path.abspath(modelConfig.work_dir))\n",
    "train_detector(model, datasets, modelConfig, distributed=False, validate=True)"
   ]
  },
  {
   "cell_type": "markdown",
   "metadata": {
    "id": "Ysaru06J1-7h"
   },
   "source": [
    "### Inference on image!"
   ]
  },
  {
   "cell_type": "code",
   "execution_count": null,
   "metadata": {
    "id": "Ntujgji0bsXN"
   },
   "outputs": [],
   "source": [
    "from mmdet.apis import inference_detector, init_detector, show_result_pyplot\n",
    "inputImage = mmcv.imread('raccoons/raccoon-115_jpg.rf.9723b0a68ad8ed8bdb5ccf6a210ba09b.jpg')\n",
    "\n",
    "model.cfg = modelConfig\n",
    "model.CLASSES = ('raccoons',)\n",
    "\n",
    "result = inference_detector(model, inputImage)\n",
    "show_result_pyplot(model, inputImage, result)"
   ]
  },
  {
   "cell_type": "markdown",
   "metadata": {
    "id": "uPPab50HqxP4"
   },
   "source": [
    "# Chula-RBC Dataset\n",
    "![RBC Dataset](https://raw.githubusercontent.com/Chula-PIC-Lab/Chula-RBC-12-Dataset/main/Dataset/1.jpg)\n",
    "\n",
    "Dataset URL : https://github.com/Chula-PIC-Lab/Chula-RBC-12-Dataset <br>"
   ]
  },
  {
   "cell_type": "code",
   "execution_count": null,
   "metadata": {
    "colab": {
     "base_uri": "https://localhost:8080/"
    },
    "id": "pmqpqwA5TToF",
    "outputId": "f4791998-b9b8-41bb-8b68-7a52caca4eec"
   },
   "outputs": [],
   "source": [
    "!pip install gdown\n",
    "!git clone https://github.com/Chula-PIC-Lab/Chula-RBC-12-Dataset\n",
    "!gdown https://drive.google.com/uc?id=1EY0gPz5J4PVpFwiOUUFyjVqsl9yR4QyI"
   ]
  },
  {
   "cell_type": "code",
   "execution_count": null,
   "metadata": {
    "colab": {
     "base_uri": "https://localhost:8080/"
    },
    "id": "74zKv9WpU2wl",
    "outputId": "b244da78-d574-4c4e-b7ca-31cf670fcfa5"
   },
   "outputs": [],
   "source": [
    "!mim download mmdet --config vfnet_r50_fpn_1x_coco --dest .\n"
   ]
  },
  {
   "cell_type": "markdown",
   "metadata": {
    "id": "XnuE0T4B05PG"
   },
   "source": [
    "### Dataset Exploration\n",
    "We will use pycocotools to explore this dataset. "
   ]
  },
  {
   "cell_type": "code",
   "execution_count": null,
   "metadata": {
    "colab": {
     "base_uri": "https://localhost:8080/"
    },
    "id": "6DSOD_cDYgEw",
    "outputId": "e6d640db-d842-4d8d-bf2d-172222feeb16"
   },
   "outputs": [],
   "source": [
    "from mmcv import Config\n",
    "\n",
    "modelConfig = Config.fromfile('vfnet_r50_fpn_1x_coco.py')\n",
    "print(f'Original Config:\\n{modelConfig.pretty_text}')\n"
   ]
  },
  {
   "cell_type": "code",
   "execution_count": null,
   "metadata": {
    "id": "CDSCrd9LxOPh"
   },
   "outputs": [],
   "source": [
    "from pycocotools.coco import COCO\n",
    "import numpy as np\n",
    "import cv2\n",
    "import matplotlib.pyplot as plt"
   ]
  },
  {
   "cell_type": "code",
   "execution_count": null,
   "metadata": {
    "colab": {
     "base_uri": "https://localhost:8080/"
    },
    "id": "cOmMHWe2xPNC",
    "outputId": "d65dde87-2a78-4a55-f29c-303c9e261947"
   },
   "outputs": [],
   "source": [
    "trainLabelFile='rbcCocoGT.json'\n",
    "# initialize COCO api for instance annotations\n",
    "trainCOCOBinding = COCO(trainLabelFile)"
   ]
  },
  {
   "cell_type": "code",
   "execution_count": null,
   "metadata": {
    "colab": {
     "base_uri": "https://localhost:8080/",
     "height": 378
    },
    "id": "jjhJIE79qcrh",
    "outputId": "b7d0970e-390c-4ea1-8af1-13cfccb1f3bf"
   },
   "outputs": [],
   "source": [
    "#display COCO categories and supercategories\n",
    "cats = trainCOCOBinding.loadCats(trainCOCOBinding.getCatIds())\n",
    "nms=[cat['name'] for cat in cats]\n",
    "print('COCO categories: \\n{}\\n'.format(' '.join(nms)))\n",
    "\n",
    "# get all images containing given categories, select one at random\n",
    "catIds = trainCOCOBinding.getCatIds(catNms=['Normal']);\n",
    "imgIds = trainCOCOBinding.getImgIds(catIds=catIds );\n",
    "\n",
    "randomImgId = np.random.randint(0,len(imgIds))\n",
    "sampleImageData = trainCOCOBinding.loadImgs(randomImgId)[0]\n",
    "\n",
    "print('Image Data >>', sampleImageData)\n",
    "\n",
    "sampleImage = cv2.imread('Chula-RBC-12-Dataset/Dataset/'+sampleImageData['file_name'])\n",
    "\n",
    "annIds = trainCOCOBinding.getAnnIds(imgIds=randomImgId, iscrowd=None)\n",
    "boxes = trainCOCOBinding.loadAnns(annIds)\n",
    "print('Box Data', boxes)\n",
    "\n",
    "for box in boxes:\n",
    "  x,y,w,h = box['bbox']\n",
    "  cv2.rectangle(sampleImage, (int(x), int(y)), (int(x+w), int(y+h)), (0,255,0), 5)\n",
    "\n",
    "sampleImage = cv2.cvtColor(sampleImage, cv2.COLOR_BGR2RGB)\n",
    "\n",
    "plt.imshow(sampleImage)\n",
    "plt.show()"
   ]
  },
  {
   "cell_type": "markdown",
   "metadata": {
    "id": "BuJhEUCX1B3b"
   },
   "source": [
    "### Modify MMDetection model configuration"
   ]
  },
  {
   "cell_type": "code",
   "execution_count": null,
   "metadata": {
    "colab": {
     "base_uri": "https://localhost:8080/"
    },
    "id": "7-FYO89IZ88R",
    "outputId": "4984926d-3c3f-43fc-b446-6ff03e478b19"
   },
   "outputs": [],
   "source": [
    "from mmcv.utils.config import ConfigDict\n",
    "from mmdet.apis import set_random_seed\n",
    "\n",
    "# Modify dataset type and path\n",
    "modelConfig.device = 'cuda'\n",
    "\n",
    "modelConfig.dataset_type = 'CocoDataset'\n",
    "modelConfig.data_root = '/content/Chula-RBC-12-Dataset/Dataset'\n",
    "modelConfig.classes = ('Normal', 'Macrocyte', 'Microcyte', 'Spherocyte', 'Target cell', 'Schistocyte', 'Hypochromia', 'Elliptocyte', 'Uncategorised')\n",
    "\n",
    "modelConfig.data.train = ConfigDict()\n",
    "modelConfig.data.train.pipeline = modelConfig.train_pipeline\n",
    "modelConfig.data.train.type = 'CocoDataset'\n",
    "modelConfig.data.train.classes = modelConfig.classes \n",
    "modelConfig.data.train.data_root = modelConfig.data_root\n",
    "modelConfig.data.train.ann_file = '/content/rbcCocoGT.json'\n",
    "modelConfig.data.train.img_prefix = ''\n",
    "\n",
    "modelConfig.data.val = ConfigDict()\n",
    "modelConfig.data.val.pipeline = modelConfig.test_pipeline\n",
    "modelConfig.data.val.type = 'CocoDataset'\n",
    "modelConfig.data.val.classes =modelConfig.classes \n",
    "modelConfig.data.val.data_root = modelConfig.data_root\n",
    "modelConfig.data.val.ann_file = '/content/rbcCocoGT.json'\n",
    "modelConfig.data.val.img_prefix = ''\n",
    "\n",
    "\n",
    "modelConfig.data.test = ConfigDict()\n",
    "modelConfig.data.test.pipeline = modelConfig.test_pipeline\n",
    "modelConfig.data.test.type = 'CocoDataset'\n",
    "modelConfig.data.test.classes =modelConfig.classes \n",
    "modelConfig.data.test.data_root = modelConfig.data_root\n",
    "modelConfig.data.test.ann_file = '/content/rbcCocoGT.json'\n",
    "modelConfig.data.test.img_prefix = ''\n",
    "\n",
    "\n",
    "# Modify num classes of the model in box head\n",
    "modelConfig.model.bbox_head.num_classes = 9\n",
    "\n",
    "# use pretrained model as start point\n",
    "modelConfig.load_from = 'vfnet_r50_fpn_1x_coco_20201027-38db6f58.pth'\n",
    "\n",
    "# Set up working dir to save files and logs.\n",
    "modelConfig.work_dir = './RBCexperiments'\n",
    "\n",
    "modelConfig.optimizer.lr = 1e-3\n",
    "modelConfig.lr_config.warmup = None\n",
    "modelConfig.lr_config.policy = 'step'\n",
    "modelConfig.lr_config.step = [5,10]\n",
    "modelConfig.log_config.interval = 10\n",
    "\n",
    "# Evaluation interval\n",
    "modelConfig.evaluation.interval = 5\n",
    "# Checkpoint saving interval\n",
    "modelConfig.checkpoint_config.interval = 5\n",
    "modelConfig.runner.max_epochs = 5\n",
    "\n",
    "# Set batch size\n",
    "modelConfig.data.samples_per_gpu = 8\n",
    "\n",
    "# Set seed thus the results are more reproducible\n",
    "modelConfig.seed = 0\n",
    "set_random_seed(0, deterministic=False)\n",
    "modelConfig.gpu_ids = range(1)\n",
    "\n",
    "# We can initialize the logger for training and have a look\n",
    "# at the final config used for training\n",
    "print(f'Modified Config:\\n{modelConfig.pretty_text}')"
   ]
  },
  {
   "cell_type": "markdown",
   "metadata": {
    "id": "pkvMgr081HRA"
   },
   "source": [
    "### Training"
   ]
  },
  {
   "cell_type": "code",
   "execution_count": null,
   "metadata": {
    "colab": {
     "base_uri": "https://localhost:8080/",
     "height": 1000
    },
    "id": "TsyevUzOa4zW",
    "outputId": "756e3d06-7a91-44c5-fa01-a805094ac634"
   },
   "outputs": [],
   "source": [
    "from mmdet.datasets import build_dataset\n",
    "from mmdet.models import build_detector\n",
    "from mmdet.apis import train_detector\n",
    "import mmcv\n",
    "import os\n",
    "\n",
    "# Build dataset\n",
    "datasets = [build_dataset(modelConfig.data.train)]\n",
    "\n",
    "# Build the detector\n",
    "model = build_detector(modelConfig.model, train_cfg=modelConfig.get('train_cfg'), test_cfg=modelConfig.get('test_cfg'))\n",
    "\n",
    "# Create work_dir\n",
    "mmcv.mkdir_or_exist(os.path.abspath(modelConfig.work_dir))\n",
    "train_detector(model, datasets, modelConfig, distributed=False, validate=True)"
   ]
  },
  {
   "cell_type": "markdown",
   "metadata": {
    "id": "A7CZxOCn1LNW"
   },
   "source": [
    "### Inference on image!"
   ]
  },
  {
   "cell_type": "code",
   "execution_count": null,
   "metadata": {
    "colab": {
     "base_uri": "https://localhost:8080/",
     "height": 527
    },
    "id": "94QkG9I3kizd",
    "outputId": "8af8c653-f07f-48bb-ac40-6da767710ca0"
   },
   "outputs": [],
   "source": [
    "from mmdet.apis import inference_detector, init_detector, show_result_pyplot\n",
    "inputImage = mmcv.imread('/content/Chula-RBC-12-Dataset/Dataset/1.jpg')\n",
    "\n",
    "model.cfg = modelConfig\n",
    "model.CLASSES = ('Normal', 'Macrocyte', 'Microcyte', 'Spherocyte', 'Target cell', 'Schistocyte', 'Hypochromia', 'Elliptocyte', 'Uncategorised')\n",
    "\n",
    "result = inference_detector(model, inputImage)\n",
    "show_result_pyplot(model, inputImage, result)"
   ]
  }
 ],
 "metadata": {
  "accelerator": "GPU",
  "colab": {
   "collapsed_sections": [],
   "name": "สำเนาของ Lab 8 - Modern Object Detection",
   "provenance": []
  },
  "kernelspec": {
   "display_name": "Python 3 (ipykernel)",
   "language": "python",
   "name": "python3"
  },
  "language_info": {
   "codemirror_mode": {
    "name": "ipython",
    "version": 3
   },
   "file_extension": ".py",
   "mimetype": "text/x-python",
   "name": "python",
   "nbconvert_exporter": "python",
   "pygments_lexer": "ipython3",
   "version": "3.10.2"
  }
 },
 "nbformat": 4,
 "nbformat_minor": 4
}
